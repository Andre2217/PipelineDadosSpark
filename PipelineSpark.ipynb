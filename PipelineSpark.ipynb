{
  "nbformat": 4,
  "nbformat_minor": 0,
  "metadata": {
    "colab": {
      "provenance": []
    },
    "kernelspec": {
      "name": "python3",
      "display_name": "Python 3"
    },
    "language_info": {
      "name": "python"
    }
  },
  "cells": [
    {
      "cell_type": "code",
      "execution_count": 3,
      "metadata": {
        "id": "xwMC2u_WRUxN",
        "colab": {
          "base_uri": "https://localhost:8080/"
        },
        "outputId": "1d771b8c-99ec-43d0-ee62-31a2254ef616"
      },
      "outputs": [
        {
          "output_type": "stream",
          "name": "stdout",
          "text": [
            "\u001b[?25l   \u001b[90m━━━━━━━━━━━━━━━━━━━━━━━━━━━━━━━━━━━━━━━━\u001b[0m \u001b[32m0.0/1.8 MB\u001b[0m \u001b[31m?\u001b[0m eta \u001b[36m-:--:--\u001b[0m\r\u001b[2K   \u001b[91m━━━\u001b[0m\u001b[90m╺\u001b[0m\u001b[90m━━━━━━━━━━━━━━━━━━━━━━━━━━━━━━━━━━━━\u001b[0m \u001b[32m0.2/1.8 MB\u001b[0m \u001b[31m4.5 MB/s\u001b[0m eta \u001b[36m0:00:01\u001b[0m\r\u001b[2K   \u001b[91m━━━━━━━━━━━━━━━━━━━━━━━━━━\u001b[0m\u001b[91m╸\u001b[0m\u001b[90m━━━━━━━━━━━━━\u001b[0m \u001b[32m1.2/1.8 MB\u001b[0m \u001b[31m17.6 MB/s\u001b[0m eta \u001b[36m0:00:01\u001b[0m\r\u001b[2K   \u001b[90m━━━━━━━━━━━━━━━━━━━━━━━━━━━━━━━━━━━━━━━━\u001b[0m \u001b[32m1.8/1.8 MB\u001b[0m \u001b[31m19.0 MB/s\u001b[0m eta \u001b[36m0:00:00\u001b[0m\n",
            "\u001b[?25h"
          ]
        }
      ],
      "source": [
        "!pip -q install \"pyspark>=3.5.0\" pyarrow fastparquet\n"
      ]
    },
    {
      "cell_type": "code",
      "source": [
        "\n",
        "import os, urllib.request, glob\n",
        "\n",
        "pasta_bruto = \"/content/PipelineDadosSpark/dados/bruto\"\n",
        "os.makedirs(pasta_bruto, exist_ok=True)\n",
        "\n",
        "base = \"https://d37ci6vzurychx.cloudfront.net/trip-data\"\n",
        "arquivos = [\"yellow_tripdata_2023-01.parquet\"]\n",
        "\n",
        "for a in arquivos:\n",
        "    url = f\"{base}/{a}\"\n",
        "    destino = f\"{pasta_bruto}/{a}\"\n",
        "    if not os.path.exists(destino):\n",
        "        print(\"Baixando:\", url)\n",
        "        urllib.request.urlretrieve(url, destino)\n",
        "\n",
        "print(\"Arquivos brutos baixados:\")\n",
        "print(glob.glob(pasta_bruto + \"/*.parquet\"))\n"
      ],
      "metadata": {
        "id": "YyUiWee8RV45",
        "outputId": "6211edbd-ade9-4b5e-cb6f-ddea3362ebe3",
        "colab": {
          "base_uri": "https://localhost:8080/"
        }
      },
      "execution_count": 18,
      "outputs": [
        {
          "output_type": "stream",
          "name": "stdout",
          "text": [
            "Baixando: https://d37ci6vzurychx.cloudfront.net/trip-data/yellow_tripdata_2023-01.parquet\n",
            "Arquivos brutos baixados:\n",
            "['/content/PipelineDadosSpark/dados/bruto/yellow_tripdata_2023-01.parquet']\n"
          ]
        }
      ]
    },
    {
      "cell_type": "code",
      "source": [
        "from pyspark.sql import SparkSession\n",
        "\n",
        "sessao = (SparkSession.builder\n",
        "          .appName(\"PipelineTaxiPTBR\")\n",
        "          .config(\"spark.sql.session.timeZone\", \"UTC\")\n",
        "          .config(\"spark.sql.shuffle.partitions\", \"200\")\n",
        "          .getOrCreate())\n",
        "\n",
        "sessao.sparkContext.setLogLevel(\"WARN\")\n",
        "print(\"Versão Spark:\", sessao.version)\n"
      ],
      "metadata": {
        "id": "4uT1kvBgRaF1",
        "outputId": "5cd951ce-e9c1-4024-ed27-96efde7eb2ef",
        "colab": {
          "base_uri": "https://localhost:8080/"
        }
      },
      "execution_count": 19,
      "outputs": [
        {
          "output_type": "stream",
          "name": "stdout",
          "text": [
            "Versão Spark: 3.5.1\n"
          ]
        }
      ]
    },
    {
      "cell_type": "code",
      "source": [
        "caminho_bruto = \"/content/PipelineDadosSpark/dados/bruto/*.parquet\"\n",
        "dados_brutos = sessao.read.parquet(caminho_bruto)\n",
        "\n",
        "print(\"Linhas lidas (bruto):\", dados_brutos.count())\n",
        "dados_brutos.printSchema()\n",
        "dados_brutos.show(5, truncate=False)\n"
      ],
      "metadata": {
        "colab": {
          "base_uri": "https://localhost:8080/"
        },
        "id": "cYV9sh4oR9_6",
        "outputId": "b41ae4bb-4202-4233-e8b3-ad082059921d"
      },
      "execution_count": 20,
      "outputs": [
        {
          "output_type": "stream",
          "name": "stdout",
          "text": [
            "Linhas lidas (bruto): 3066766\n",
            "root\n",
            " |-- VendorID: long (nullable = true)\n",
            " |-- tpep_pickup_datetime: timestamp_ntz (nullable = true)\n",
            " |-- tpep_dropoff_datetime: timestamp_ntz (nullable = true)\n",
            " |-- passenger_count: double (nullable = true)\n",
            " |-- trip_distance: double (nullable = true)\n",
            " |-- RatecodeID: double (nullable = true)\n",
            " |-- store_and_fwd_flag: string (nullable = true)\n",
            " |-- PULocationID: long (nullable = true)\n",
            " |-- DOLocationID: long (nullable = true)\n",
            " |-- payment_type: long (nullable = true)\n",
            " |-- fare_amount: double (nullable = true)\n",
            " |-- extra: double (nullable = true)\n",
            " |-- mta_tax: double (nullable = true)\n",
            " |-- tip_amount: double (nullable = true)\n",
            " |-- tolls_amount: double (nullable = true)\n",
            " |-- improvement_surcharge: double (nullable = true)\n",
            " |-- total_amount: double (nullable = true)\n",
            " |-- congestion_surcharge: double (nullable = true)\n",
            " |-- airport_fee: double (nullable = true)\n",
            "\n",
            "+--------+--------------------+---------------------+---------------+-------------+----------+------------------+------------+------------+------------+-----------+-----+-------+----------+------------+---------------------+------------+--------------------+-----------+\n",
            "|VendorID|tpep_pickup_datetime|tpep_dropoff_datetime|passenger_count|trip_distance|RatecodeID|store_and_fwd_flag|PULocationID|DOLocationID|payment_type|fare_amount|extra|mta_tax|tip_amount|tolls_amount|improvement_surcharge|total_amount|congestion_surcharge|airport_fee|\n",
            "+--------+--------------------+---------------------+---------------+-------------+----------+------------------+------------+------------+------------+-----------+-----+-------+----------+------------+---------------------+------------+--------------------+-----------+\n",
            "|2       |2023-01-01 00:32:10 |2023-01-01 00:40:36  |1.0            |0.97         |1.0       |N                 |161         |141         |2           |9.3        |1.0  |0.5    |0.0       |0.0         |1.0                  |14.3        |2.5                 |0.0        |\n",
            "|2       |2023-01-01 00:55:08 |2023-01-01 01:01:27  |1.0            |1.1          |1.0       |N                 |43          |237         |1           |7.9        |1.0  |0.5    |4.0       |0.0         |1.0                  |16.9        |2.5                 |0.0        |\n",
            "|2       |2023-01-01 00:25:04 |2023-01-01 00:37:49  |1.0            |2.51         |1.0       |N                 |48          |238         |1           |14.9       |1.0  |0.5    |15.0      |0.0         |1.0                  |34.9        |2.5                 |0.0        |\n",
            "|1       |2023-01-01 00:03:48 |2023-01-01 00:13:25  |0.0            |1.9          |1.0       |N                 |138         |7           |1           |12.1       |7.25 |0.5    |0.0       |0.0         |1.0                  |20.85       |0.0                 |1.25       |\n",
            "|2       |2023-01-01 00:10:29 |2023-01-01 00:21:19  |1.0            |1.43         |1.0       |N                 |107         |79          |1           |11.4       |1.0  |0.5    |3.28      |0.0         |1.0                  |19.68       |2.5                 |0.0        |\n",
            "+--------+--------------------+---------------------+---------------+-------------+----------+------------------+------------+------------+------------+-----------+-----+-------+----------+------------+---------------------+------------+--------------------+-----------+\n",
            "only showing top 5 rows\n",
            "\n"
          ]
        }
      ]
    },
    {
      "cell_type": "code",
      "source": [
        "from pyspark.sql import functions as F, types as T\n",
        "\n",
        "# ---- mapeamento de nomes (bruto -> português) ----\n",
        "mapa_colunas = {\n",
        "    \"vendor_id\": \"id_fornecedor\",\n",
        "    \"tpep_pickup_datetime\": \"coleta_datahora\",\n",
        "    \"tpep_dropoff_datetime\": \"entrega_datahora\",\n",
        "    \"passenger_count\": \"passageiros\",\n",
        "    \"trip_distance\": \"distancia_km\",\n",
        "    \"RatecodeID\": \"id_tarifa\",\n",
        "    \"store_and_fwd_flag\": \"armazenar_encaminhar\",\n",
        "    \"PULocationID\": \"id_local_coleta\",\n",
        "    \"DOLocationID\": \"id_local_entrega\",\n",
        "    \"payment_type\": \"tipo_pagamento\",\n",
        "    \"fare_amount\": \"valor_corrida\",\n",
        "    \"extra\": \"extra\",\n",
        "    \"mta_tax\": \"taxa_mta\",\n",
        "    \"tip_amount\": \"valor_gorjeta\",\n",
        "    \"tolls_amount\": \"valor_pedagio\",\n",
        "    \"improvement_surcharge\": \"sobretaxa_melhoria\",\n",
        "    \"total_amount\": \"valor_total\",\n",
        "    \"congestion_surcharge\": \"sobretaxa_congestao\",\n",
        "    \"airport_fee\":\"taxa_aeroporto\"\n",
        "}\n",
        "\n",
        "colunas_existentes = dados_brutos.columns\n",
        "dados = dados_brutos\n",
        "for antigo, novo in mapa_colunas.items():\n",
        "    if antigo in colunas_existentes:\n",
        "        dados = dados.withColumnRenamed(antigo, novo)"
      ],
      "metadata": {
        "id": "kbXUZMFqSCIj"
      },
      "execution_count": 21,
      "outputs": []
    },
    {
      "cell_type": "code",
      "source": [
        "# ---- coerção de tipos importantes ----\n",
        "if \"coleta_datahora\" in dados.columns:\n",
        "    dados = dados.withColumn(\"coleta_datahora\", F.to_timestamp(\"coleta_datahora\"))\n",
        "if \"entrega_datahora\" in dados.columns:\n",
        "    dados = dados.withColumn(\"entrega_datahora\", F.to_timestamp(\"entrega_datahora\"))"
      ],
      "metadata": {
        "id": "UkL8MI6QSdB2"
      },
      "execution_count": 22,
      "outputs": []
    },
    {
      "cell_type": "code",
      "source": [
        "# monetárias e numéricas\n",
        "colunas_monetarias = [\"valor_corrida\",\"extra\",\"taxa_mta\",\"valor_gorjeta\",\"valor_pedagio\",\n",
        "                      \"sobretaxa_melhoria\",\"sobretaxa_congestao\",\"valor_total\"]\n",
        "for c in colunas_monetarias:\n",
        "    if c in dados.columns:\n",
        "        dados = dados.withColumn(c, F.col(c).cast(\"double\"))\n",
        "\n",
        "if \"distancia_km\" in dados.columns:\n",
        "    dados = dados.withColumn(\"distancia_km\", F.col(\"distancia_km\").cast(\"double\"))\n",
        "\n",
        "if \"passageiros\" in dados.columns:\n",
        "    dados = dados.withColumn(\"passageiros\", F.col(\"passageiros\").cast(\"int\"))"
      ],
      "metadata": {
        "id": "l49gWuudSjG8"
      },
      "execution_count": 23,
      "outputs": []
    },
    {
      "cell_type": "code",
      "source": [
        "# armazenar_encaminhar para 'SIM'/'NAO'\n",
        "if \"armazenar_encaminhar\" in dados.columns:\n",
        "    dados = dados.withColumn(\"armazenar_encaminhar\", F.upper(F.trim(F.col(\"armazenar_encaminhar\"))))\n",
        "    dados = dados.withColumn(\n",
        "        \"armazenar_encaminhar\",\n",
        "        F.when(F.col(\"armazenar_encaminhar\") == \"Y\", F.lit(\"SIM\"))\n",
        "         .when(F.col(\"armazenar_encaminhar\") == \"N\", F.lit(\"NAO\"))\n",
        "         .otherwise(F.col(\"armazenar_encaminhar\"))\n",
        "    )"
      ],
      "metadata": {
        "id": "tj56MfChSpEj"
      },
      "execution_count": 24,
      "outputs": []
    },
    {
      "cell_type": "code",
      "source": [
        "# ---- enriquecimento (ano/mes, duracao, velocidade) ----\n",
        "if \"coleta_datahora\" in dados.columns:\n",
        "    dados = dados.withColumn(\"ano\", F.year(\"coleta_datahora\"))\n",
        "    dados = dados.withColumn(\"mes\", F.month(\"coleta_datahora\"))\n",
        "\n",
        "if set([\"coleta_datahora\",\"entrega_datahora\"]).issubset(set(dados.columns)):\n",
        "    dados = dados.withColumn(\"duracao_minutos\",\n",
        "                             (F.unix_timestamp(\"entrega_datahora\") - F.unix_timestamp(\"coleta_datahora\"))/60.0)\n",
        "    dados = dados.withColumn(\"duracao_minutos\",\n",
        "                             F.when(F.col(\"duracao_minutos\") > 0, F.col(\"duracao_minutos\")).otherwise(F.lit(None)))\n",
        "    if \"distancia_km\" in dados.columns:\n",
        "        dados = dados.withColumn(\n",
        "            \"velocidade_media_kmh\",\n",
        "            F.when(F.col(\"duracao_minutos\") > 0,\n",
        "                   F.col(\"distancia_km\") / (F.col(\"duracao_minutos\")/60.0)\n",
        "            ).otherwise(F.lit(None))\n",
        "        )\n"
      ],
      "metadata": {
        "id": "PD-gAuijSurk"
      },
      "execution_count": 25,
      "outputs": []
    },
    {
      "cell_type": "code",
      "source": [
        "# tipo_pagamento descrição\n",
        "if \"tipo_pagamento\" in dados.columns:\n",
        "    dados = dados.withColumn(\"tipo_pagamento\", F.col(\"tipo_pagamento\").cast(\"int\"))\n",
        "    dados = (dados\n",
        "        .withColumn(\"tipo_pagamento_descricao\",\n",
        "            F.when(F.col(\"tipo_pagamento\")==1, F.lit(\"CartaoCredito\"))\n",
        "             .when(F.col(\"tipo_pagamento\")==2, F.lit(\"Dinheiro\"))\n",
        "             .when(F.col(\"tipo_pagamento\")==3, F.lit(\"SemCobranca\"))\n",
        "             .when(F.col(\"tipo_pagamento\")==4, F.lit(\"Disputa\"))\n",
        "             .when(F.col(\"tipo_pagamento\")==5, F.lit(\"Desconhecido\"))\n",
        "             .when(F.col(\"tipo_pagamento\")==6, F.lit(\"Anulado\"))\n",
        "             .otherwise(F.lit(\"Outro\"))\n",
        "        )\n",
        "    )"
      ],
      "metadata": {
        "id": "p2UgYr-LS1l8"
      },
      "execution_count": 26,
      "outputs": []
    },
    {
      "cell_type": "code",
      "source": [
        " #filtros de qualidade\n",
        "linhas_iniciais = dados.count()\n",
        "\n",
        "# distância plausível 0..200 km\n",
        "if \"distancia_km\" in dados.columns:\n",
        "    dados = dados.filter((F.col(\"distancia_km\") >= 0) & (F.col(\"distancia_km\") <= 200))\n",
        "\n",
        "# valores monetários não-negativos\n",
        "for c in [c for c in colunas_monetarias if c in dados.columns]:\n",
        "    dados = dados.filter((F.col(c).isNull()) | (F.col(c) >= 0))\n",
        "\n",
        "# duração plausível (até 24h)\n",
        "if \"duracao_minutos\" in dados.columns:\n",
        "    dados = dados.filter((F.col(\"duracao_minutos\").isNull()) | (F.col(\"duracao_minutos\") <= 24*60))\n"
      ],
      "metadata": {
        "id": "cdAF1cqXS4pb"
      },
      "execution_count": 27,
      "outputs": []
    },
    {
      "cell_type": "code",
      "source": [
        "# deduplicação por chave composta\n",
        "chaves = [c for c in [\"coleta_datahora\",\"entrega_datahora\",\"id_fornecedor\",\n",
        "                      \"id_local_coleta\",\"id_local_entrega\",\"valor_total\"] if c in dados.columns]\n",
        "linhas_pre_dedup = dados.count()\n",
        "dados = dados.dropDuplicates(subset=chaves) if chaves else dados\n",
        "linhas_pos_dedup = dados.count()\n",
        "\n",
        "linhas_finais = dados.count()\n",
        "\n",
        "print(\"Linhas iniciais:\", linhas_iniciais)\n",
        "print(\"Removidas por filtros:\", linhas_iniciais - linhas_pre_dedup)\n",
        "print(\"Duplicatas removidas:\", linhas_pre_dedup - linhas_pos_dedup)\n",
        "print(\"Linhas finais:\", linhas_finais)\n",
        "\n",
        "dados.select(*[c for c in [\"coleta_datahora\",\"entrega_datahora\",\"passageiros\",\n",
        "                           \"distancia_km\",\"valor_total\",\"tipo_pagamento\",\"tipo_pagamento_descricao\",\n",
        "                           \"ano\",\"mes\",\"duracao_minutos\",\"velocidade_media_kmh\"] if c in dados.columns])\\\n",
        "     .show(10, truncate=False)"
      ],
      "metadata": {
        "colab": {
          "base_uri": "https://localhost:8080/"
        },
        "id": "IcZAEdILS-hC",
        "outputId": "6cdc6a61-bb70-495e-89da-6322819d49e7"
      },
      "execution_count": 28,
      "outputs": [
        {
          "output_type": "stream",
          "name": "stdout",
          "text": [
            "Linhas iniciais: 3066766\n",
            "Removidas por filtros: 25308\n",
            "Duplicatas removidas: 1\n",
            "Linhas finais: 3041457\n",
            "+-------------------+-------------------+-----------+------------+-----------+--------------+------------------------+----+---+-------------------+--------------------+\n",
            "|coleta_datahora    |entrega_datahora   |passageiros|distancia_km|valor_total|tipo_pagamento|tipo_pagamento_descricao|ano |mes|duracao_minutos    |velocidade_media_kmh|\n",
            "+-------------------+-------------------+-----------+------------+-----------+--------------+------------------------+----+---+-------------------+--------------------+\n",
            "|2023-01-03 12:48:35|2023-01-03 13:48:50|1          |0.0         |0.0        |1             |CartaoCredito           |2023|1  |60.25              |0.0                 |\n",
            "|2023-01-05 14:32:39|2023-01-05 14:33:04|1          |0.0         |0.0        |1             |CartaoCredito           |2023|1  |0.4166666666666667 |0.0                 |\n",
            "|2023-01-08 12:43:13|2023-01-08 12:43:24|1          |0.0         |0.0        |1             |CartaoCredito           |2023|1  |0.18333333333333332|0.0                 |\n",
            "|2023-01-20 18:53:34|2023-01-20 18:55:15|1          |0.0         |0.0        |1             |CartaoCredito           |2023|1  |1.6833333333333333 |0.0                 |\n",
            "|2023-01-21 11:17:25|2023-01-21 11:19:34|0          |0.0         |0.0        |4             |Disputa                 |2023|1  |2.15               |0.0                 |\n",
            "|2023-01-08 10:09:59|2023-01-08 10:47:12|1          |18.1        |0.0        |3             |SemCobranca             |2023|1  |37.21666666666667  |29.18047469771608   |\n",
            "|2023-01-15 04:37:40|2023-01-15 04:45:40|1          |1.2         |0.0        |3             |SemCobranca             |2023|1  |8.0                |9.0                 |\n",
            "|2023-01-18 07:09:24|2023-01-18 07:09:54|1          |0.0         |0.0        |3             |SemCobranca             |2023|1  |0.5                |0.0                 |\n",
            "|2023-01-11 13:17:32|2023-01-11 13:18:07|1          |0.0         |0.0        |2             |Dinheiro                |2023|1  |0.5833333333333334 |0.0                 |\n",
            "|2023-01-11 13:48:51|2023-01-11 13:49:13|1          |0.0         |0.0        |2             |Dinheiro                |2023|1  |0.36666666666666664|0.0                 |\n",
            "+-------------------+-------------------+-----------+------------+-----------+--------------+------------------------+----+---+-------------------+--------------------+\n",
            "only showing top 10 rows\n",
            "\n"
          ]
        }
      ]
    },
    {
      "cell_type": "code",
      "source": [
        "from pyspark.sql.functions import col\n",
        "\n",
        "# 1. remover corridas sem distância e sem valor\n",
        "dados_limpos = dados.filter(~((col(\"distancia_km\") == 0) & (col(\"valor_total\") == 0)))\n",
        "\n",
        "# 2. (opcional) remover corridas com velocidade média impossível (> 200 km/h)\n",
        "dados_limpos = dados_limpos.filter((col(\"velocidade_media_kmh\") >= 0) & (col(\"velocidade_media_kmh\") < 200))\n",
        "\n",
        "# Ver como ficou\n",
        "# dados_limpos.show(20, truncate=False)\n",
        "dados_limpos.select(*[c for c in [\"coleta_datahora\",\"entrega_datahora\",\"passageiros\",\n",
        "                           \"distancia_km\",\"valor_total\",\"tipo_pagamento\",\"tipo_pagamento_descricao\",\n",
        "                           \"ano\",\"mes\",\"duracao_minutos\",\"velocidade_media_kmh\"] if c in dados.columns])\\\n",
        "     .show(20, truncate=False)\n"
      ],
      "metadata": {
        "id": "WXXq3r-GTkFU",
        "outputId": "56b0cb88-d5b0-4c5a-9936-b7ddf4de8672",
        "colab": {
          "base_uri": "https://localhost:8080/"
        }
      },
      "execution_count": 29,
      "outputs": [
        {
          "output_type": "stream",
          "name": "stdout",
          "text": [
            "+-------------------+-------------------+-----------+------------+-----------+--------------+------------------------+----+---+------------------+--------------------+\n",
            "|coleta_datahora    |entrega_datahora   |passageiros|distancia_km|valor_total|tipo_pagamento|tipo_pagamento_descricao|ano |mes|duracao_minutos   |velocidade_media_kmh|\n",
            "+-------------------+-------------------+-----------+------------+-----------+--------------+------------------------+----+---+------------------+--------------------+\n",
            "|2023-01-08 10:09:59|2023-01-08 10:47:12|1          |18.1        |0.0        |3             |SemCobranca             |2023|1  |37.21666666666667 |29.18047469771608   |\n",
            "|2023-01-15 04:37:40|2023-01-15 04:45:40|1          |1.2         |0.0        |3             |SemCobranca             |2023|1  |8.0               |9.0                 |\n",
            "|2023-01-18 18:00:23|2023-01-18 18:03:31|2          |0.7         |0.0        |1             |CartaoCredito           |2023|1  |3.1333333333333333|13.404255319148936  |\n",
            "|2023-01-15 21:36:22|2023-01-15 21:39:14|1          |0.2         |0.0        |4             |Disputa                 |2023|1  |2.8666666666666667|4.186046511627907   |\n",
            "|2023-01-31 19:24:35|2023-01-31 20:00:42|1          |3.8         |0.0        |1             |CartaoCredito           |2023|1  |36.11666666666667 |6.312874942316566   |\n",
            "|2023-01-08 01:23:12|2023-01-08 01:25:23|2          |0.2         |0.0        |4             |Disputa                 |2023|1  |2.183333333333333 |5.4961832061068705  |\n",
            "|2023-01-02 14:22:48|2023-01-02 14:25:00|2          |0.1         |0.0        |3             |SemCobranca             |2023|1  |2.2               |2.7272727272727275  |\n",
            "|2023-01-10 21:43:56|2023-01-10 21:44:42|1          |0.1         |0.0        |4             |Disputa                 |2023|1  |0.7666666666666667|7.826086956521739   |\n",
            "|2023-01-11 07:18:23|2023-01-11 07:25:48|1          |1.0         |0.0        |3             |SemCobranca             |2023|1  |7.416666666666667 |8.089887640449438   |\n",
            "|2023-01-23 19:36:07|2023-01-23 19:42:39|1          |1.1         |0.0        |1             |CartaoCredito           |2023|1  |6.533333333333333 |10.102040816326532  |\n",
            "|2023-01-13 10:20:09|2023-01-13 10:25:07|1          |0.3         |0.0        |3             |SemCobranca             |2023|1  |4.966666666666667 |3.624161073825503   |\n",
            "|2023-01-24 10:31:47|2023-01-24 10:33:04|1          |0.3         |0.0        |4             |Disputa                 |2023|1  |1.2833333333333334|14.025974025974024  |\n",
            "|2023-01-27 02:03:47|2023-01-27 02:05:58|1          |0.4         |0.0        |4             |Disputa                 |2023|1  |2.183333333333333 |10.992366412213741  |\n",
            "|2023-01-10 14:37:59|2023-01-10 14:38:46|5          |0.6         |0.0        |4             |Disputa                 |2023|1  |0.7833333333333333|45.95744680851064   |\n",
            "|2023-01-06 08:23:12|2023-01-06 08:43:37|1          |3.4         |0.0        |4             |Disputa                 |2023|1  |20.416666666666668|9.991836734693877   |\n",
            "|2023-01-19 13:39:34|2023-01-19 13:40:20|1          |1.0         |0.0        |4             |Disputa                 |2023|1  |0.7666666666666667|78.26086956521739   |\n",
            "|2023-01-23 14:45:57|2023-01-23 14:46:17|1          |0.1         |0.0        |3             |SemCobranca             |2023|1  |0.3333333333333333|18.000000000000004  |\n",
            "|2023-01-05 00:21:50|2023-01-05 00:22:30|1          |0.1         |0.0        |4             |Disputa                 |2023|1  |0.6666666666666666|9.000000000000002   |\n",
            "|2023-01-24 14:35:54|2023-01-24 14:36:24|3          |0.1         |0.0        |3             |SemCobranca             |2023|1  |0.5               |12.0                |\n",
            "|2023-01-05 13:44:47|2023-01-05 13:51:40|1          |0.6         |0.0        |4             |Disputa                 |2023|1  |6.883333333333334 |5.23002421307506    |\n",
            "+-------------------+-------------------+-----------+------------+-----------+--------------+------------------------+----+---+------------------+--------------------+\n",
            "only showing top 20 rows\n",
            "\n"
          ]
        }
      ]
    },
    {
      "cell_type": "code",
      "source": [
        "dados_limpos.show(30, truncate=False)\n"
      ],
      "metadata": {
        "id": "2wl6RVF6dEDZ",
        "outputId": "cb9ee39e-5c78-44af-822b-6438ef03b8a9",
        "colab": {
          "base_uri": "https://localhost:8080/"
        }
      },
      "execution_count": 30,
      "outputs": [
        {
          "output_type": "stream",
          "name": "stdout",
          "text": [
            "+--------+-------------------+-------------------+-----------+------------+---------+--------------------+---------------+----------------+--------------+-------------+-----+--------+-------------+-------------+------------------+-----------+-------------------+--------------+----+---+------------------+--------------------+------------------------+\n",
            "|VendorID|coleta_datahora    |entrega_datahora   |passageiros|distancia_km|id_tarifa|armazenar_encaminhar|id_local_coleta|id_local_entrega|tipo_pagamento|valor_corrida|extra|taxa_mta|valor_gorjeta|valor_pedagio|sobretaxa_melhoria|valor_total|sobretaxa_congestao|taxa_aeroporto|ano |mes|duracao_minutos   |velocidade_media_kmh|tipo_pagamento_descricao|\n",
            "+--------+-------------------+-------------------+-----------+------------+---------+--------------------+---------------+----------------+--------------+-------------+-----+--------+-------------+-------------+------------------+-----------+-------------------+--------------+----+---+------------------+--------------------+------------------------+\n",
            "|1       |2023-01-15 04:37:40|2023-01-15 04:45:40|1          |1.2         |1.0      |NAO                 |162            |48              |3             |0.0          |0.0  |0.0     |0.0          |0.0          |0.0               |0.0        |0.0                |0.0           |2023|1  |8.0               |9.0                 |SemCobranca             |\n",
            "|1       |2023-01-15 21:36:22|2023-01-15 21:39:14|1          |0.2         |1.0      |NAO                 |79             |79              |4             |0.0          |0.0  |0.0     |0.0          |0.0          |0.0               |0.0        |0.0                |0.0           |2023|1  |2.8666666666666667|4.186046511627907   |Disputa                 |\n",
            "|1       |2023-01-31 19:24:35|2023-01-31 20:00:42|1          |3.8         |99.0     |NAO                 |242            |81              |1             |0.0          |0.0  |0.0     |0.0          |0.0          |0.0               |0.0        |0.0                |0.0           |2023|1  |36.11666666666667 |6.312874942316566   |CartaoCredito           |\n",
            "|1       |2023-01-08 01:23:12|2023-01-08 01:25:23|2          |0.2         |1.0      |NAO                 |114            |114             |4             |0.0          |0.0  |0.0     |0.0          |0.0          |0.0               |0.0        |0.0                |0.0           |2023|1  |2.183333333333333 |5.4961832061068705  |Disputa                 |\n",
            "|1       |2023-01-10 21:43:56|2023-01-10 21:44:42|1          |0.1         |1.0      |NAO                 |132            |132             |4             |0.0          |0.0  |0.0     |0.0          |0.0          |0.0               |0.0        |0.0                |0.0           |2023|1  |0.7666666666666667|7.826086956521739   |Disputa                 |\n",
            "|1       |2023-01-11 07:18:23|2023-01-11 07:25:48|1          |1.0         |1.0      |NAO                 |164            |137             |3             |0.0          |0.0  |0.0     |0.0          |0.0          |0.0               |0.0        |0.0                |0.0           |2023|1  |7.416666666666667 |8.089887640449438   |SemCobranca             |\n",
            "|1       |2023-01-23 19:36:07|2023-01-23 19:42:39|1          |1.1         |1.0      |NAO                 |229            |137             |1             |0.0          |0.0  |0.0     |0.0          |0.0          |0.0               |0.0        |0.0                |0.0           |2023|1  |6.533333333333333 |10.102040816326532  |CartaoCredito           |\n",
            "|1       |2023-01-13 10:20:09|2023-01-13 10:25:07|1          |0.3         |1.0      |NAO                 |70             |138             |3             |0.0          |0.0  |0.0     |0.0          |0.0          |0.0               |0.0        |0.0                |0.0           |2023|1  |4.966666666666667 |3.624161073825503   |SemCobranca             |\n",
            "|1       |2023-01-24 10:31:47|2023-01-24 10:33:04|1          |0.3         |1.0      |NAO                 |140            |140             |4             |0.0          |0.0  |0.0     |0.0          |0.0          |0.0               |0.0        |0.0                |0.0           |2023|1  |1.2833333333333334|14.025974025974024  |Disputa                 |\n",
            "|1       |2023-01-10 14:37:59|2023-01-10 14:38:46|5          |0.6         |1.0      |NAO                 |163            |163             |4             |0.0          |0.0  |0.0     |0.0          |0.0          |0.0               |0.0        |0.0                |0.0           |2023|1  |0.7833333333333333|45.95744680851064   |Disputa                 |\n",
            "|1       |2023-01-06 08:23:12|2023-01-06 08:43:37|1          |3.4         |1.0      |NAO                 |75             |164             |4             |0.0          |0.0  |0.0     |0.0          |0.0          |0.0               |0.0        |0.0                |0.0           |2023|1  |20.416666666666668|9.991836734693877   |Disputa                 |\n",
            "|1       |2023-01-05 00:21:50|2023-01-05 00:22:30|1          |0.1         |1.0      |NAO                 |186            |186             |4             |0.0          |0.0  |0.0     |0.0          |0.0          |0.0               |0.0        |0.0                |0.0           |2023|1  |0.6666666666666666|9.000000000000002   |Disputa                 |\n",
            "|1       |2023-01-24 14:35:54|2023-01-24 14:36:24|3          |0.1         |1.0      |NAO                 |229            |229             |3             |0.0          |0.0  |0.0     |0.0          |0.0          |0.0               |0.0        |0.0                |0.0           |2023|1  |0.5               |12.0                |SemCobranca             |\n",
            "|1       |2023-01-05 13:44:47|2023-01-05 13:51:40|1          |0.6         |1.0      |NAO                 |161            |230             |4             |0.0          |0.0  |0.0     |0.0          |0.0          |0.0               |0.0        |0.0                |0.0           |2023|1  |6.883333333333334 |5.23002421307506    |Disputa                 |\n",
            "|1       |2023-01-23 13:27:50|2023-01-23 13:39:36|1          |1.4         |1.0      |NAO                 |261            |231             |3             |0.0          |0.0  |0.0     |0.0          |0.0          |0.0               |0.0        |0.0                |0.0           |2023|1  |11.766666666666667|7.138810198300282   |SemCobranca             |\n",
            "|1       |2023-01-12 15:07:17|2023-01-12 15:11:02|1          |0.7         |1.0      |NAO                 |113            |234             |4             |0.0          |0.0  |0.0     |0.0          |0.0          |0.0               |0.0        |0.0                |0.0           |2023|1  |3.75              |11.2                |Disputa                 |\n",
            "|1       |2023-01-18 20:55:45|2023-01-18 20:56:15|1          |0.1         |1.0      |NAO                 |107            |234             |4             |0.0          |0.0  |0.0     |0.0          |0.0          |0.0               |0.0        |0.0                |0.0           |2023|1  |0.5               |12.0                |Disputa                 |\n",
            "|1       |2023-01-04 18:45:55|2023-01-04 18:47:37|1          |0.3         |1.0      |NAO                 |75             |236             |4             |0.0          |0.0  |0.0     |0.0          |0.0          |0.0               |0.0        |0.0                |0.0           |2023|1  |1.7               |10.588235294117647  |Disputa                 |\n",
            "|1       |2023-01-21 16:12:02|2023-01-21 17:20:38|1          |8.8         |1.0      |NAO                 |239            |236             |3             |0.0          |0.0  |0.0     |0.0          |0.0          |0.0               |0.0        |0.0                |0.0           |2023|1  |68.6              |7.696793002915452   |SemCobranca             |\n",
            "|1       |2023-01-16 20:32:56|2023-01-16 20:42:00|1          |2.1         |1.0      |SIM                 |230            |238             |1             |0.0          |0.0  |0.0     |0.0          |0.0          |0.0               |0.0        |0.0                |0.0           |2023|1  |9.066666666666666 |13.897058823529413  |CartaoCredito           |\n",
            "|1       |2023-01-22 12:53:40|2023-01-22 12:54:35|2          |0.0         |5.0      |NAO                 |7              |7               |2             |0.0          |0.0  |0.0     |0.0          |0.0          |1.0               |1.0        |0.0                |0.0           |2023|1  |0.9166666666666666|0.0                 |Dinheiro                |\n",
            "|1       |2023-01-20 13:27:14|2023-01-20 13:28:25|1          |0.4         |5.0      |NAO                 |10             |10              |3             |0.0          |0.0  |0.0     |0.0          |0.0          |1.0               |1.0        |0.0                |0.0           |2023|1  |1.1833333333333333|20.281690140845072  |SemCobranca             |\n",
            "|1       |2023-01-27 15:22:12|2023-01-27 15:28:50|0          |0.5         |5.0      |NAO                 |163            |48              |4             |0.0          |0.0  |0.0     |0.0          |0.0          |1.0               |1.0        |0.0                |0.0           |2023|1  |6.633333333333334 |4.522613065326633   |Disputa                 |\n",
            "|1       |2023-01-28 01:18:21|2023-01-28 01:19:41|2          |0.0         |5.0      |NAO                 |48             |48              |4             |0.0          |0.0  |0.0     |0.0          |0.0          |1.0               |1.0        |0.0                |0.0           |2023|1  |1.3333333333333333|0.0                 |Disputa                 |\n",
            "|1       |2023-01-30 23:22:23|2023-01-30 23:23:27|0          |0.0         |5.0      |NAO                 |48             |48              |2             |0.0          |0.0  |0.0     |0.0          |0.0          |1.0               |1.0        |0.0                |0.0           |2023|1  |1.0666666666666667|0.0                 |Dinheiro                |\n",
            "|1       |2023-01-02 13:59:32|2023-01-02 14:00:36|1          |0.1         |5.0      |NAO                 |50             |50              |4             |0.0          |0.0  |0.0     |0.0          |0.0          |1.0               |1.0        |0.0                |0.0           |2023|1  |1.0666666666666667|5.625               |Disputa                 |\n",
            "|1       |2023-01-07 00:47:58|2023-01-07 00:53:10|1          |4.7         |5.0      |NAO                 |74             |74              |3             |0.0          |0.0  |0.0     |0.0          |0.0          |1.0               |1.0        |0.0                |0.0           |2023|1  |5.2               |54.23076923076923   |SemCobranca             |\n",
            "|1       |2023-01-31 20:41:44|2023-01-31 20:42:16|1          |0.1         |5.0      |NAO                 |90             |90              |4             |0.0          |0.0  |0.0     |0.0          |0.0          |1.0               |1.0        |0.0                |0.0           |2023|1  |0.5333333333333333|11.25               |Disputa                 |\n",
            "|1       |2023-01-07 19:42:12|2023-01-07 20:21:08|2          |17.0        |5.0      |NAO                 |161            |132             |4             |0.0          |0.0  |0.0     |0.0          |0.0          |1.0               |1.0        |0.0                |0.0           |2023|1  |38.93333333333333 |26.198630136986303  |Disputa                 |\n",
            "|1       |2023-01-16 16:04:26|2023-01-16 16:05:07|2          |0.2         |5.0      |NAO                 |132            |132             |3             |0.0          |0.0  |0.0     |0.0          |0.0          |1.0               |1.0        |0.0                |0.0           |2023|1  |0.6833333333333333|17.5609756097561    |SemCobranca             |\n",
            "+--------+-------------------+-------------------+-----------+------------+---------+--------------------+---------------+----------------+--------------+-------------+-----+--------+-------------+-------------+------------------+-----------+-------------------+--------------+----+---+------------------+--------------------+------------------------+\n",
            "only showing top 30 rows\n",
            "\n"
          ]
        }
      ]
    },
    {
      "cell_type": "code",
      "source": [
        "pasta_saida_part = \"/content/PipelineDadosSpark/dados/saida_csv_particionado\"\n",
        "(dados\n",
        " .write.mode(\"overwrite\")\n",
        " .option(\"header\", \"true\")\n",
        " .partitionBy(\"ano\",\"mes\")\n",
        " .csv(pasta_saida_part)\n",
        ")\n",
        "print(\"Gerado em:\", pasta_saida_part)"
      ],
      "metadata": {
        "colab": {
          "base_uri": "https://localhost:8080/"
        },
        "id": "BMtNnhZ5TDo-",
        "outputId": "21f87c74-cdaf-46d1-bdb6-f546de418430"
      },
      "execution_count": 31,
      "outputs": [
        {
          "output_type": "stream",
          "name": "stdout",
          "text": [
            "Gerado em: /content/PipelineDadosSpark/dados/saida_csv_particionado\n"
          ]
        }
      ]
    },
    {
      "cell_type": "code",
      "source": [
        "pasta_saida_unico = \"/content/PipelineDadosSpark/dados/saida_csv_unico\"\n",
        "(dados\n",
        " .limit(200_000)\n",
        " .coalesce(1)\n",
        " .write.mode(\"overwrite\")\n",
        " .option(\"header\", \"true\")\n",
        " .csv(pasta_saida_unico)\n",
        ")\n",
        "print(\"Gerado em:\", pasta_saida_unico)\n"
      ],
      "metadata": {
        "id": "_riNWYzcTwVc",
        "outputId": "d00f5529-a3ea-4c19-d182-43709f53ecfe",
        "colab": {
          "base_uri": "https://localhost:8080/"
        }
      },
      "execution_count": 32,
      "outputs": [
        {
          "output_type": "stream",
          "name": "stdout",
          "text": [
            "Gerado em: /content/PipelineDadosSpark/dados/saida_csv_unico\n"
          ]
        }
      ]
    },
    {
      "cell_type": "code",
      "source": [
        "from google.colab import auth\n",
        "auth.authenticate_user()\n"
      ],
      "metadata": {
        "id": "G0lISeZeqEBO"
      },
      "execution_count": 1,
      "outputs": []
    },
    {
      "cell_type": "code",
      "source": [
        "!git config --global user.email \"andre28ap@gmail.com\"\n",
        "!git config --global user.name \"Andre2217\"\n"
      ],
      "metadata": {
        "id": "MXUwmneEqMtl"
      },
      "execution_count": 33,
      "outputs": []
    },
    {
      "cell_type": "code",
      "source": [
        "%cd /content\n",
        "!git clone https://github.com/Andre2217/PipelineDadosSpark.git"
      ],
      "metadata": {
        "id": "Ag5sTeyjUbxs",
        "colab": {
          "base_uri": "https://localhost:8080/"
        },
        "outputId": "64588bda-ac50-4378-995a-94a6d506b2f8"
      },
      "execution_count": 36,
      "outputs": [
        {
          "output_type": "stream",
          "name": "stdout",
          "text": [
            "/content\n",
            "fatal: destination path 'PipelineDadosSpark' already exists and is not an empty directory.\n"
          ]
        }
      ]
    },
    {
      "cell_type": "code",
      "source": [
        "%cd /content/PipelineDadosSpark/\n"
      ],
      "metadata": {
        "colab": {
          "base_uri": "https://localhost:8080/"
        },
        "id": "FNlbsonpv3pE",
        "outputId": "78e20a07-b319-49d1-9861-13bc97a78fea"
      },
      "execution_count": 37,
      "outputs": [
        {
          "output_type": "stream",
          "name": "stdout",
          "text": [
            "/content/PipelineDadosSpark\n"
          ]
        }
      ]
    },
    {
      "cell_type": "code",
      "source": [
        "!git add .\n",
        "!git commit -m \"Primeira versão do Pipeline de Dados com Spark\"\n",
        "!git push origin main\n"
      ],
      "metadata": {
        "colab": {
          "base_uri": "https://localhost:8080/"
        },
        "id": "dwNe6E9Ev9JD",
        "outputId": "49e4fd9b-566f-4822-dc7c-262f6eef00e3"
      },
      "execution_count": 38,
      "outputs": [
        {
          "output_type": "stream",
          "name": "stdout",
          "text": [
            "On branch main\n",
            "Your branch is ahead of 'origin/main' by 1 commit.\n",
            "  (use \"git push\" to publish your local commits)\n",
            "\n",
            "nothing to commit, working tree clean\n",
            "fatal: could not read Username for 'https://github.com': No such device or address\n"
          ]
        }
      ]
    },
    {
      "cell_type": "code",
      "source": [
        "!cd /content && zip -r pipeline_spark.zip PipelineDadosSpark/\n"
      ],
      "metadata": {
        "colab": {
          "base_uri": "https://localhost:8080/"
        },
        "id": "T-UOxV_xw15M",
        "outputId": "fe873d42-91d9-404e-f2f1-ba8e88366c8f"
      },
      "execution_count": 39,
      "outputs": [
        {
          "output_type": "stream",
          "name": "stdout",
          "text": [
            "  adding: PipelineDadosSpark/ (stored 0%)\n",
            "  adding: PipelineDadosSpark/.git/ (stored 0%)\n",
            "  adding: PipelineDadosSpark/.git/objects/ (stored 0%)\n",
            "  adding: PipelineDadosSpark/.git/objects/16/ (stored 0%)\n",
            "  adding: PipelineDadosSpark/.git/objects/16/6dc11abc7d46da146334c0ff62c711a04a0a92 (stored 0%)\n",
            "  adding: PipelineDadosSpark/.git/objects/a9/ (stored 0%)\n",
            "  adding: PipelineDadosSpark/.git/objects/a9/6a7e949e3822d4a587c3650715bf7796d13240 (stored 0%)\n",
            "  adding: PipelineDadosSpark/.git/objects/a8/ (stored 0%)\n",
            "  adding: PipelineDadosSpark/.git/objects/a8/905242681cd44295c8a0bd5854cb0ebf7d4e62 (stored 0%)\n",
            "  adding: PipelineDadosSpark/.git/objects/b5/ (stored 0%)\n",
            "  adding: PipelineDadosSpark/.git/objects/b5/426c22af763b49a179b3e4acaf17285d8c3aed (stored 0%)\n",
            "  adding: PipelineDadosSpark/.git/objects/e3/ (stored 0%)\n",
            "  adding: PipelineDadosSpark/.git/objects/e3/c78e2b274c0c8f94f5b8284491a235a57bcee9 (stored 0%)\n",
            "  adding: PipelineDadosSpark/.git/objects/2c/ (stored 0%)\n",
            "  adding: PipelineDadosSpark/.git/objects/2c/3847263391b2f9d2d263cf5e4bfdba8e060e3b (stored 0%)\n",
            "  adding: PipelineDadosSpark/.git/objects/39/ (stored 0%)\n",
            "  adding: PipelineDadosSpark/.git/objects/39/58c9e077dc64ab034db9d6f7a231d6bd3501fe (deflated 0%)\n",
            "  adding: PipelineDadosSpark/.git/objects/3b/ (stored 0%)\n",
            "  adding: PipelineDadosSpark/.git/objects/3b/7b044936a890cd8d651d349a752d819d71d22c (stored 0%)\n",
            "  adding: PipelineDadosSpark/.git/objects/d3/ (stored 0%)\n",
            "  adding: PipelineDadosSpark/.git/objects/d3/0c1290869bc5ae8a65236cfe8780d4ce98827f (deflated 0%)\n",
            "  adding: PipelineDadosSpark/.git/objects/d3/4c80adc9dc2e122ab201de953c9b4ea37c4efd (stored 0%)\n",
            "  adding: PipelineDadosSpark/.git/objects/23/ (stored 0%)\n",
            "  adding: PipelineDadosSpark/.git/objects/23/5f915eaaa1c5b1e6e4979bcc3ed4533545a526 (stored 0%)\n",
            "  adding: PipelineDadosSpark/.git/objects/ca/ (stored 0%)\n",
            "  adding: PipelineDadosSpark/.git/objects/ca/63e0ee643423e2b573fb08a0cc0b2d26c4df72 (deflated 0%)\n",
            "  adding: PipelineDadosSpark/.git/objects/f4/ (stored 0%)\n",
            "  adding: PipelineDadosSpark/.git/objects/f4/829bd86c20b194b20b24d193873f33f9554324 (stored 0%)\n",
            "  adding: PipelineDadosSpark/.git/objects/6f/ (stored 0%)\n",
            "  adding: PipelineDadosSpark/.git/objects/6f/6d80ddb7da6c3a1a20bdf562d9960aec19d99e (stored 0%)\n",
            "  adding: PipelineDadosSpark/.git/objects/65/ (stored 0%)\n",
            "  adding: PipelineDadosSpark/.git/objects/65/f4c4f510ebdec07aa45379e5a54f7670262c84 (stored 0%)\n",
            "  adding: PipelineDadosSpark/.git/objects/72/ (stored 0%)\n",
            "  adding: PipelineDadosSpark/.git/objects/72/0992d118199d9a2225f8ba076db4cea81a35b4 (stored 0%)\n",
            "  adding: PipelineDadosSpark/.git/objects/72/00dd5f7155f3f8eb704737a89369d3eb352481 (stored 0%)\n",
            "  adding: PipelineDadosSpark/.git/objects/8d/ (stored 0%)\n",
            "  adding: PipelineDadosSpark/.git/objects/8d/90e0223e17a85672024ba23c979481a2c42ad5 (stored 0%)\n",
            "  adding: PipelineDadosSpark/.git/objects/80/ (stored 0%)\n",
            "  adding: PipelineDadosSpark/.git/objects/80/4a98f88c2a162ef6e8a7fdea8c966e15e02418 (stored 0%)\n",
            "  adding: PipelineDadosSpark/.git/objects/97/ (stored 0%)\n",
            "  adding: PipelineDadosSpark/.git/objects/97/a4c71109c0988ad2c0a0fdff053c8a3a307d7c (stored 0%)\n",
            "  adding: PipelineDadosSpark/.git/objects/2a/ (stored 0%)\n",
            "  adding: PipelineDadosSpark/.git/objects/2a/10a9c9857d75b43a29c042e23f0aa9b0732dd6 (stored 0%)\n",
            "  adding: PipelineDadosSpark/.git/objects/c4/ (stored 0%)\n",
            "  adding: PipelineDadosSpark/.git/objects/c4/6e1da81f477cc4762a2da2969457c77fac73ca (stored 0%)\n",
            "  adding: PipelineDadosSpark/.git/objects/41/ (stored 0%)\n",
            "  adding: PipelineDadosSpark/.git/objects/41/e12a3a3c924a5580c633f97af38d1b515fd4a7 (stored 0%)\n",
            "  adding: PipelineDadosSpark/.git/objects/pack/ (stored 0%)\n",
            "  adding: PipelineDadosSpark/.git/objects/pack/pack-a3422a1bab3595107a55807ef71618a7652882f1.pack (stored 0%)\n",
            "  adding: PipelineDadosSpark/.git/objects/pack/pack-a3422a1bab3595107a55807ef71618a7652882f1.idx (deflated 87%)\n",
            "  adding: PipelineDadosSpark/.git/objects/15/ (stored 0%)\n",
            "  adding: PipelineDadosSpark/.git/objects/15/6f84cede058c1fcbc7ea38fbeec24cd67be91f (stored 0%)\n",
            "  adding: PipelineDadosSpark/.git/objects/20/ (stored 0%)\n",
            "  adding: PipelineDadosSpark/.git/objects/20/bd81f24f6309b1312a55e1a240a555a951274d (stored 0%)\n",
            "  adding: PipelineDadosSpark/.git/objects/d1/ (stored 0%)\n",
            "  adding: PipelineDadosSpark/.git/objects/d1/4a9e588cd664be3c7740817e8f72602e338bc4 (stored 0%)\n",
            "  adding: PipelineDadosSpark/.git/objects/d1/f9b3a35a69ec49f9528bc1d57c2ab3e3fc9ceb (stored 0%)\n",
            "  adding: PipelineDadosSpark/.git/objects/1a/ (stored 0%)\n",
            "  adding: PipelineDadosSpark/.git/objects/1a/54a625aa2fa04a2941b6f454ce027b145c8e60 (deflated 0%)\n",
            "  adding: PipelineDadosSpark/.git/objects/e6/ (stored 0%)\n",
            "  adding: PipelineDadosSpark/.git/objects/e6/9de29bb2d1d6434b8b29ae775ad8c2e48c5391 (stored 0%)\n",
            "  adding: PipelineDadosSpark/.git/objects/cc/ (stored 0%)\n",
            "  adding: PipelineDadosSpark/.git/objects/cc/66d3cc5129edebdd09c2bd517e4ec2be171a68 (deflated 0%)\n",
            "  adding: PipelineDadosSpark/.git/objects/00/ (stored 0%)\n",
            "  adding: PipelineDadosSpark/.git/objects/00/9b81b27408ce0dd08c91a302dd237a641596d9 (stored 0%)\n",
            "  adding: PipelineDadosSpark/.git/objects/00/5741317ceeee07b2570f9a0c658b285a81f48c (stored 0%)\n",
            "  adding: PipelineDadosSpark/.git/objects/2b/ (stored 0%)\n",
            "  adding: PipelineDadosSpark/.git/objects/2b/a361720e535fbd83c42c97d5f647dacaaebf73 (stored 0%)\n",
            "  adding: PipelineDadosSpark/.git/objects/0c/ (stored 0%)\n",
            "  adding: PipelineDadosSpark/.git/objects/0c/10c5e06cebb8c989e9d65c62f6c8f65da0cb10 (deflated 0%)\n",
            "  adding: PipelineDadosSpark/.git/objects/48/ (stored 0%)\n",
            "  adding: PipelineDadosSpark/.git/objects/48/0356da2089f3a5cf88f1fa83bc25b5b462050b (stored 0%)\n",
            "  adding: PipelineDadosSpark/.git/objects/3f/ (stored 0%)\n",
            "  adding: PipelineDadosSpark/.git/objects/3f/8bf9d5b5f5cf867a2f91193f40c6ce208a0351 (deflated 0%)\n",
            "  adding: PipelineDadosSpark/.git/objects/03/ (stored 0%)\n",
            "  adding: PipelineDadosSpark/.git/objects/03/118aa25bfa29dcbc9ad96ecf8525e71c6e3014 (stored 0%)\n",
            "  adding: PipelineDadosSpark/.git/objects/93/ (stored 0%)\n",
            "  adding: PipelineDadosSpark/.git/objects/93/b15396427551144777262e85900ea2a61aaf72 (stored 0%)\n",
            "  adding: PipelineDadosSpark/.git/objects/d8/ (stored 0%)\n",
            "  adding: PipelineDadosSpark/.git/objects/d8/77bb083e1efd5a150e90753a468df70934604e (stored 0%)\n",
            "  adding: PipelineDadosSpark/.git/objects/6d/ (stored 0%)\n",
            "  adding: PipelineDadosSpark/.git/objects/6d/084a3130654ad2c23a6dbef9039ac59cfd82d1 (stored 0%)\n",
            "  adding: PipelineDadosSpark/.git/objects/12/ (stored 0%)\n",
            "  adding: PipelineDadosSpark/.git/objects/12/fc6f16f7fce11236df6b84724ab24b3b39f181 (stored 0%)\n",
            "  adding: PipelineDadosSpark/.git/objects/29/ (stored 0%)\n",
            "  adding: PipelineDadosSpark/.git/objects/29/484cccda68933a8601f05d768afe1ea1091ce3 (stored 0%)\n",
            "  adding: PipelineDadosSpark/.git/objects/5d/ (stored 0%)\n",
            "  adding: PipelineDadosSpark/.git/objects/5d/10af24678813f2d994b0e7f91c9fb5bc780625 (stored 0%)\n",
            "  adding: PipelineDadosSpark/.git/objects/bc/ (stored 0%)\n",
            "  adding: PipelineDadosSpark/.git/objects/bc/14dee923c54371b15f42380128cdfc8ca52e6d (stored 0%)\n",
            "  adding: PipelineDadosSpark/.git/objects/bc/be7f6dbc47ad094ac196b3cc67bda7ba4b761c (deflated 0%)\n",
            "  adding: PipelineDadosSpark/.git/objects/4f/ (stored 0%)\n",
            "  adding: PipelineDadosSpark/.git/objects/4f/4bfb50efb18281a0081f1fa81a335aa0932b67 (deflated 0%)\n",
            "  adding: PipelineDadosSpark/.git/objects/66/ (stored 0%)\n",
            "  adding: PipelineDadosSpark/.git/objects/66/e7c45c5c9dc4f3ea3847773d9167b69dd0f4e7 (deflated 0%)\n",
            "  adding: PipelineDadosSpark/.git/objects/c2/ (stored 0%)\n",
            "  adding: PipelineDadosSpark/.git/objects/c2/616c320b8f61beff7a1f5234440b50410530ce (stored 0%)\n",
            "  adding: PipelineDadosSpark/.git/objects/info/ (stored 0%)\n",
            "  adding: PipelineDadosSpark/.git/objects/ae/ (stored 0%)\n",
            "  adding: PipelineDadosSpark/.git/objects/ae/32d44390e7dd413bdf8a96079dd948c5505e05 (stored 0%)\n",
            "  adding: PipelineDadosSpark/.git/objects/4e/ (stored 0%)\n",
            "  adding: PipelineDadosSpark/.git/objects/4e/5edbc5e5b451c30f9de78b1d4821474de72252 (deflated 0%)\n",
            "  adding: PipelineDadosSpark/.git/objects/de/ (stored 0%)\n",
            "  adding: PipelineDadosSpark/.git/objects/de/a9410603e236f6f44a3576bfb4c5f28c38cb9e (stored 0%)\n",
            "  adding: PipelineDadosSpark/.git/objects/9d/ (stored 0%)\n",
            "  adding: PipelineDadosSpark/.git/objects/9d/4f7f1c4d69264d884d49c0004924fb73138bc5 (stored 0%)\n",
            "  adding: PipelineDadosSpark/.git/objects/64/ (stored 0%)\n",
            "  adding: PipelineDadosSpark/.git/objects/64/870a0ed40ffab208f5436c0c7eb0d6a6c0c64d (stored 0%)\n",
            "  adding: PipelineDadosSpark/.git/objects/a0/ (stored 0%)\n",
            "  adding: PipelineDadosSpark/.git/objects/a0/50bbaa538a3f28699363cf8de1c766bb8a2408 (stored 0%)\n",
            "  adding: PipelineDadosSpark/.git/objects/34/ (stored 0%)\n",
            "  adding: PipelineDadosSpark/.git/objects/34/39100b2d0c93e806c6a56b6e8523a59a04242f (stored 0%)\n",
            "  adding: PipelineDadosSpark/.git/hooks/ (stored 0%)\n",
            "  adding: PipelineDadosSpark/.git/hooks/pre-merge-commit.sample (deflated 39%)\n",
            "  adding: PipelineDadosSpark/.git/hooks/pre-receive.sample (deflated 40%)\n",
            "  adding: PipelineDadosSpark/.git/hooks/pre-commit.sample (deflated 45%)\n",
            "  adding: PipelineDadosSpark/.git/hooks/post-update.sample (deflated 27%)\n",
            "  adding: PipelineDadosSpark/.git/hooks/commit-msg.sample (deflated 44%)\n",
            "  adding: PipelineDadosSpark/.git/hooks/update.sample (deflated 68%)\n",
            "  adding: PipelineDadosSpark/.git/hooks/applypatch-msg.sample (deflated 42%)\n",
            "  adding: PipelineDadosSpark/.git/hooks/pre-push.sample (deflated 49%)\n",
            "  adding: PipelineDadosSpark/.git/hooks/pre-rebase.sample (deflated 59%)\n",
            "  adding: PipelineDadosSpark/.git/hooks/pre-applypatch.sample (deflated 38%)\n",
            "  adding: PipelineDadosSpark/.git/hooks/push-to-checkout.sample (deflated 55%)\n",
            "  adding: PipelineDadosSpark/.git/hooks/prepare-commit-msg.sample (deflated 50%)\n",
            "  adding: PipelineDadosSpark/.git/hooks/fsmonitor-watchman.sample (deflated 62%)\n",
            "  adding: PipelineDadosSpark/.git/HEAD (stored 0%)\n",
            "  adding: PipelineDadosSpark/.git/index (deflated 69%)\n",
            "  adding: PipelineDadosSpark/.git/refs/ (stored 0%)\n",
            "  adding: PipelineDadosSpark/.git/refs/tags/ (stored 0%)\n",
            "  adding: PipelineDadosSpark/.git/refs/heads/ (stored 0%)\n",
            "  adding: PipelineDadosSpark/.git/refs/heads/main (stored 0%)\n",
            "  adding: PipelineDadosSpark/.git/refs/remotes/ (stored 0%)\n",
            "  adding: PipelineDadosSpark/.git/refs/remotes/origin/ (stored 0%)\n",
            "  adding: PipelineDadosSpark/.git/refs/remotes/origin/HEAD (stored 0%)\n",
            "  adding: PipelineDadosSpark/.git/logs/ (stored 0%)\n",
            "  adding: PipelineDadosSpark/.git/logs/HEAD (deflated 45%)\n",
            "  adding: PipelineDadosSpark/.git/logs/refs/ (stored 0%)\n",
            "  adding: PipelineDadosSpark/.git/logs/refs/heads/ (stored 0%)\n",
            "  adding: PipelineDadosSpark/.git/logs/refs/heads/main (deflated 45%)\n",
            "  adding: PipelineDadosSpark/.git/logs/refs/remotes/ (stored 0%)\n",
            "  adding: PipelineDadosSpark/.git/logs/refs/remotes/origin/ (stored 0%)\n",
            "  adding: PipelineDadosSpark/.git/logs/refs/remotes/origin/HEAD (deflated 29%)\n",
            "  adding: PipelineDadosSpark/.git/COMMIT_EDITMSG (stored 0%)\n",
            "  adding: PipelineDadosSpark/.git/info/ (stored 0%)\n",
            "  adding: PipelineDadosSpark/.git/info/exclude (deflated 28%)\n",
            "  adding: PipelineDadosSpark/.git/branches/ (stored 0%)\n",
            "  adding: PipelineDadosSpark/.git/description (deflated 14%)\n",
            "  adding: PipelineDadosSpark/.git/config (deflated 30%)\n",
            "  adding: PipelineDadosSpark/.git/packed-refs (deflated 8%)\n",
            "  adding: PipelineDadosSpark/dados/ (stored 0%)\n",
            "  adding: PipelineDadosSpark/dados/bruto/ (stored 0%)\n",
            "  adding: PipelineDadosSpark/dados/bruto/yellow_tripdata_2023-01.parquet (deflated 0%)\n",
            "  adding: PipelineDadosSpark/dados/saida_csv_unico/ (stored 0%)\n",
            "  adding: PipelineDadosSpark/dados/saida_csv_unico/_SUCCESS (stored 0%)\n",
            "  adding: PipelineDadosSpark/dados/saida_csv_unico/.part-00000-87e8b8fc-47c0-492f-89a5-e46f4a700416-c000.csv.crc (deflated 0%)\n",
            "  adding: PipelineDadosSpark/dados/saida_csv_unico/._SUCCESS.crc (stored 0%)\n",
            "  adding: PipelineDadosSpark/dados/saida_csv_unico/part-00000-87e8b8fc-47c0-492f-89a5-e46f4a700416-c000.csv (deflated 83%)\n",
            "  adding: PipelineDadosSpark/dados/saida_csv_particionado/ (stored 0%)\n",
            "  adding: PipelineDadosSpark/dados/saida_csv_particionado/_SUCCESS (stored 0%)\n",
            "  adding: PipelineDadosSpark/dados/saida_csv_particionado/ano=2008/ (stored 0%)\n",
            "  adding: PipelineDadosSpark/dados/saida_csv_particionado/ano=2008/mes=12/ (stored 0%)\n",
            "  adding: PipelineDadosSpark/dados/saida_csv_particionado/ano=2008/mes=12/part-00003-854d357b-51dc-4e3f-a43f-43f59791e39d.c000.csv (deflated 42%)\n",
            "  adding: PipelineDadosSpark/dados/saida_csv_particionado/ano=2008/mes=12/.part-00003-854d357b-51dc-4e3f-a43f-43f59791e39d.c000.csv.crc (stored 0%)\n",
            "  adding: PipelineDadosSpark/dados/saida_csv_particionado/ano=2008/mes=12/part-00000-854d357b-51dc-4e3f-a43f-43f59791e39d.c000.csv (deflated 39%)\n",
            "  adding: PipelineDadosSpark/dados/saida_csv_particionado/ano=2008/mes=12/.part-00000-854d357b-51dc-4e3f-a43f-43f59791e39d.c000.csv.crc (stored 0%)\n",
            "  adding: PipelineDadosSpark/dados/saida_csv_particionado/._SUCCESS.crc (stored 0%)\n",
            "  adding: PipelineDadosSpark/dados/saida_csv_particionado/ano=2023/ (stored 0%)\n",
            "  adding: PipelineDadosSpark/dados/saida_csv_particionado/ano=2023/mes=1/ (stored 0%)\n",
            "  adding: PipelineDadosSpark/dados/saida_csv_particionado/ano=2023/mes=1/part-00003-854d357b-51dc-4e3f-a43f-43f59791e39d.c000.csv (deflated 80%)\n",
            "  adding: PipelineDadosSpark/dados/saida_csv_particionado/ano=2023/mes=1/.part-00003-854d357b-51dc-4e3f-a43f-43f59791e39d.c000.csv.crc (deflated 0%)\n",
            "  adding: PipelineDadosSpark/dados/saida_csv_particionado/ano=2023/mes=1/part-00001-854d357b-51dc-4e3f-a43f-43f59791e39d.c000.csv (deflated 81%)\n",
            "  adding: PipelineDadosSpark/dados/saida_csv_particionado/ano=2023/mes=1/part-00002-854d357b-51dc-4e3f-a43f-43f59791e39d.c000.csv (deflated 81%)\n",
            "  adding: PipelineDadosSpark/dados/saida_csv_particionado/ano=2023/mes=1/.part-00002-854d357b-51dc-4e3f-a43f-43f59791e39d.c000.csv.crc (deflated 0%)\n",
            "  adding: PipelineDadosSpark/dados/saida_csv_particionado/ano=2023/mes=1/part-00000-854d357b-51dc-4e3f-a43f-43f59791e39d.c000.csv (deflated 81%)\n",
            "  adding: PipelineDadosSpark/dados/saida_csv_particionado/ano=2023/mes=1/.part-00000-854d357b-51dc-4e3f-a43f-43f59791e39d.c000.csv.crc (deflated 0%)\n",
            "  adding: PipelineDadosSpark/dados/saida_csv_particionado/ano=2023/mes=1/.part-00001-854d357b-51dc-4e3f-a43f-43f59791e39d.c000.csv.crc (deflated 0%)\n",
            "  adding: PipelineDadosSpark/dados/saida_csv_particionado/ano=2023/mes=2/ (stored 0%)\n",
            "  adding: PipelineDadosSpark/dados/saida_csv_particionado/ano=2023/mes=2/part-00003-854d357b-51dc-4e3f-a43f-43f59791e39d.c000.csv (deflated 41%)\n",
            "  adding: PipelineDadosSpark/dados/saida_csv_particionado/ano=2023/mes=2/.part-00003-854d357b-51dc-4e3f-a43f-43f59791e39d.c000.csv.crc (stored 0%)\n",
            "  adding: PipelineDadosSpark/dados/saida_csv_particionado/ano=2023/mes=2/part-00001-854d357b-51dc-4e3f-a43f-43f59791e39d.c000.csv (deflated 41%)\n",
            "  adding: PipelineDadosSpark/dados/saida_csv_particionado/ano=2023/mes=2/part-00002-854d357b-51dc-4e3f-a43f-43f59791e39d.c000.csv (deflated 54%)\n",
            "  adding: PipelineDadosSpark/dados/saida_csv_particionado/ano=2023/mes=2/.part-00002-854d357b-51dc-4e3f-a43f-43f59791e39d.c000.csv.crc (stored 0%)\n",
            "  adding: PipelineDadosSpark/dados/saida_csv_particionado/ano=2023/mes=2/part-00000-854d357b-51dc-4e3f-a43f-43f59791e39d.c000.csv (deflated 53%)\n",
            "  adding: PipelineDadosSpark/dados/saida_csv_particionado/ano=2023/mes=2/.part-00000-854d357b-51dc-4e3f-a43f-43f59791e39d.c000.csv.crc (stored 0%)\n",
            "  adding: PipelineDadosSpark/dados/saida_csv_particionado/ano=2023/mes=2/.part-00001-854d357b-51dc-4e3f-a43f-43f59791e39d.c000.csv.crc (stored 0%)\n",
            "  adding: PipelineDadosSpark/dados/saida_csv_particionado/ano=2022/ (stored 0%)\n",
            "  adding: PipelineDadosSpark/dados/saida_csv_particionado/ano=2022/mes=10/ (stored 0%)\n",
            "  adding: PipelineDadosSpark/dados/saida_csv_particionado/ano=2022/mes=10/part-00003-854d357b-51dc-4e3f-a43f-43f59791e39d.c000.csv (deflated 40%)\n",
            "  adding: PipelineDadosSpark/dados/saida_csv_particionado/ano=2022/mes=10/.part-00003-854d357b-51dc-4e3f-a43f-43f59791e39d.c000.csv.crc (stored 0%)\n",
            "  adding: PipelineDadosSpark/dados/saida_csv_particionado/ano=2022/mes=10/part-00001-854d357b-51dc-4e3f-a43f-43f59791e39d.c000.csv (deflated 55%)\n",
            "  adding: PipelineDadosSpark/dados/saida_csv_particionado/ano=2022/mes=10/part-00002-854d357b-51dc-4e3f-a43f-43f59791e39d.c000.csv (deflated 56%)\n",
            "  adding: PipelineDadosSpark/dados/saida_csv_particionado/ano=2022/mes=10/.part-00002-854d357b-51dc-4e3f-a43f-43f59791e39d.c000.csv.crc (stored 0%)\n",
            "  adding: PipelineDadosSpark/dados/saida_csv_particionado/ano=2022/mes=10/part-00000-854d357b-51dc-4e3f-a43f-43f59791e39d.c000.csv (deflated 52%)\n",
            "  adding: PipelineDadosSpark/dados/saida_csv_particionado/ano=2022/mes=10/.part-00000-854d357b-51dc-4e3f-a43f-43f59791e39d.c000.csv.crc (stored 0%)\n",
            "  adding: PipelineDadosSpark/dados/saida_csv_particionado/ano=2022/mes=10/.part-00001-854d357b-51dc-4e3f-a43f-43f59791e39d.c000.csv.crc (stored 0%)\n",
            "  adding: PipelineDadosSpark/dados/saida_csv_particionado/ano=2022/mes=12/ (stored 0%)\n",
            "  adding: PipelineDadosSpark/dados/saida_csv_particionado/ano=2022/mes=12/part-00003-854d357b-51dc-4e3f-a43f-43f59791e39d.c000.csv (deflated 55%)\n",
            "  adding: PipelineDadosSpark/dados/saida_csv_particionado/ano=2022/mes=12/.part-00003-854d357b-51dc-4e3f-a43f-43f59791e39d.c000.csv.crc (stored 0%)\n",
            "  adding: PipelineDadosSpark/dados/saida_csv_particionado/ano=2022/mes=12/part-00001-854d357b-51dc-4e3f-a43f-43f59791e39d.c000.csv (deflated 61%)\n",
            "  adding: PipelineDadosSpark/dados/saida_csv_particionado/ano=2022/mes=12/part-00002-854d357b-51dc-4e3f-a43f-43f59791e39d.c000.csv (deflated 55%)\n",
            "  adding: PipelineDadosSpark/dados/saida_csv_particionado/ano=2022/mes=12/.part-00002-854d357b-51dc-4e3f-a43f-43f59791e39d.c000.csv.crc (stored 0%)\n",
            "  adding: PipelineDadosSpark/dados/saida_csv_particionado/ano=2022/mes=12/part-00000-854d357b-51dc-4e3f-a43f-43f59791e39d.c000.csv (deflated 59%)\n",
            "  adding: PipelineDadosSpark/dados/saida_csv_particionado/ano=2022/mes=12/.part-00000-854d357b-51dc-4e3f-a43f-43f59791e39d.c000.csv.crc (stored 0%)\n",
            "  adding: PipelineDadosSpark/dados/saida_csv_particionado/ano=2022/mes=12/.part-00001-854d357b-51dc-4e3f-a43f-43f59791e39d.c000.csv.crc (stored 0%)\n",
            "  adding: PipelineDadosSpark/README.md (stored 0%)\n"
          ]
        }
      ]
    }
  ]
}